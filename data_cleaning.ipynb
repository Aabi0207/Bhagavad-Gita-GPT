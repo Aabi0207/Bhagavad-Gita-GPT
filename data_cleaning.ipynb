{
 "cells": [
  {
   "cell_type": "markdown",
   "metadata": {},
   "source": [
    "## Early Data Analysis for the Bhagavad Git Dataset"
   ]
  },
  {
   "cell_type": "markdown",
   "metadata": {},
   "source": [
    "### Import the required libraries"
   ]
  },
  {
   "cell_type": "code",
   "execution_count": null,
   "metadata": {},
   "outputs": [],
   "source": [
    "import pandas as pd"
   ]
  },
  {
   "cell_type": "code",
   "execution_count": 51,
   "metadata": {},
   "outputs": [],
   "source": [
    "df = pd.read_csv(\"Data/Bhagwad_Gita.csv\")"
   ]
  },
  {
   "cell_type": "code",
   "execution_count": 35,
   "metadata": {},
   "outputs": [
    {
     "data": {
      "text/html": [
       "<div>\n",
       "<style scoped>\n",
       "    .dataframe tbody tr th:only-of-type {\n",
       "        vertical-align: middle;\n",
       "    }\n",
       "\n",
       "    .dataframe tbody tr th {\n",
       "        vertical-align: top;\n",
       "    }\n",
       "\n",
       "    .dataframe thead th {\n",
       "        text-align: right;\n",
       "    }\n",
       "</style>\n",
       "<table border=\"1\" class=\"dataframe\">\n",
       "  <thead>\n",
       "    <tr style=\"text-align: right;\">\n",
       "      <th></th>\n",
       "      <th>ID</th>\n",
       "      <th>Chapter</th>\n",
       "      <th>Verse</th>\n",
       "      <th>Shloka</th>\n",
       "      <th>Transliteration</th>\n",
       "      <th>HinMeaning</th>\n",
       "      <th>EngMeaning</th>\n",
       "      <th>WordMeaning</th>\n",
       "    </tr>\n",
       "  </thead>\n",
       "  <tbody>\n",
       "    <tr>\n",
       "      <th>0</th>\n",
       "      <td>BG1.1</td>\n",
       "      <td>1</td>\n",
       "      <td>1</td>\n",
       "      <td>धृतराष्ट्र उवाच |\\nधर्मक्षेत्रे कुरुक्षेत्रे स...</td>\n",
       "      <td>dhṛtarāṣṭra uvāca .\\ndharmakṣetre kurukṣetre s...</td>\n",
       "      <td>।।1.1।।धृतराष्ट्र ने कहा -- हे संजय ! धर्मभूमि...</td>\n",
       "      <td>1.1 Dhritarashtra said  What did my people and...</td>\n",
       "      <td>1.1 धर्मक्षेत्रे on the holy plain? कुरुक्षेत्...</td>\n",
       "    </tr>\n",
       "    <tr>\n",
       "      <th>1</th>\n",
       "      <td>BG1.2</td>\n",
       "      <td>1</td>\n",
       "      <td>2</td>\n",
       "      <td>सञ्जय उवाच |\\nदृष्ट्वा तु पाण्डवानीकं व्यूढं द...</td>\n",
       "      <td>sañjaya uvāca .\\ndṛṣṭvā tu pāṇḍavānīkaṃ vyūḍha...</td>\n",
       "      <td>।।1.2।।संजय ने कहा -- पाण्डव-सैन्य की व्यूह रच...</td>\n",
       "      <td>1.2. Sanjaya said  Having seen the army of the...</td>\n",
       "      <td>1.2 दृष्ट्वा having seen? तु indeed? पाण्डवानी...</td>\n",
       "    </tr>\n",
       "    <tr>\n",
       "      <th>2</th>\n",
       "      <td>BG1.3</td>\n",
       "      <td>1</td>\n",
       "      <td>3</td>\n",
       "      <td>पश्यैतां पाण्डुपुत्राणामाचार्य महतीं चमूम् |\\n...</td>\n",
       "      <td>paśyaitāṃ pāṇḍuputrāṇāmācārya mahatīṃ camūm .\\...</td>\n",
       "      <td>।।1.3।।हे आचार्य ! आपके बुद्धिमान शिष्य द्रुपद...</td>\n",
       "      <td>1.3. \"Behold, O Teacher! this mighty army of t...</td>\n",
       "      <td>1.3 पश्य behold? एताम् this? पाण्डुपुत्राणाम् ...</td>\n",
       "    </tr>\n",
       "  </tbody>\n",
       "</table>\n",
       "</div>"
      ],
      "text/plain": [
       "      ID  Chapter  Verse                                             Shloka  \\\n",
       "0  BG1.1        1      1  धृतराष्ट्र उवाच |\\nधर्मक्षेत्रे कुरुक्षेत्रे स...   \n",
       "1  BG1.2        1      2  सञ्जय उवाच |\\nदृष्ट्वा तु पाण्डवानीकं व्यूढं द...   \n",
       "2  BG1.3        1      3  पश्यैतां पाण्डुपुत्राणामाचार्य महतीं चमूम् |\\n...   \n",
       "\n",
       "                                     Transliteration  \\\n",
       "0  dhṛtarāṣṭra uvāca .\\ndharmakṣetre kurukṣetre s...   \n",
       "1  sañjaya uvāca .\\ndṛṣṭvā tu pāṇḍavānīkaṃ vyūḍha...   \n",
       "2  paśyaitāṃ pāṇḍuputrāṇāmācārya mahatīṃ camūm .\\...   \n",
       "\n",
       "                                          HinMeaning  \\\n",
       "0  ।।1.1।।धृतराष्ट्र ने कहा -- हे संजय ! धर्मभूमि...   \n",
       "1  ।।1.2।।संजय ने कहा -- पाण्डव-सैन्य की व्यूह रच...   \n",
       "2  ।।1.3।।हे आचार्य ! आपके बुद्धिमान शिष्य द्रुपद...   \n",
       "\n",
       "                                          EngMeaning  \\\n",
       "0  1.1 Dhritarashtra said  What did my people and...   \n",
       "1  1.2. Sanjaya said  Having seen the army of the...   \n",
       "2  1.3. \"Behold, O Teacher! this mighty army of t...   \n",
       "\n",
       "                                         WordMeaning  \n",
       "0  1.1 धर्मक्षेत्रे on the holy plain? कुरुक्षेत्...  \n",
       "1  1.2 दृष्ट्वा having seen? तु indeed? पाण्डवानी...  \n",
       "2  1.3 पश्य behold? एताम् this? पाण्डुपुत्राणाम् ...  "
      ]
     },
     "execution_count": 35,
     "metadata": {},
     "output_type": "execute_result"
    }
   ],
   "source": [
    "df.head(3)"
   ]
  },
  {
   "cell_type": "code",
   "execution_count": 36,
   "metadata": {},
   "outputs": [
    {
     "name": "stdout",
     "output_type": "stream",
     "text": [
      "धृतराष्ट्र उवाच |\n",
      "धर्मक्षेत्रे कुरुक्षेत्रे समवेता युयुत्सवः |\n",
      "मामकाः पाण्डवाश्चैव किमकुर्वत सञ्जय ||१-१||\n"
     ]
    }
   ],
   "source": [
    "print(df.iloc[0, 3])"
   ]
  },
  {
   "cell_type": "code",
   "execution_count": 37,
   "metadata": {},
   "outputs": [
    {
     "name": "stdout",
     "output_type": "stream",
     "text": [
      "।।1.1।।धृतराष्ट्र ने कहा -- हे संजय ! धर्मभूमि कुरुक्षेत्र में एकत्र हुए युद्ध के इच्छुक (युयुत्सव:) मेरे और पाण्डु के पुत्रों ने क्या किया?\n"
     ]
    }
   ],
   "source": [
    "print(df.iloc[0, -3])"
   ]
  },
  {
   "cell_type": "code",
   "execution_count": 38,
   "metadata": {},
   "outputs": [
    {
     "name": "stdout",
     "output_type": "stream",
     "text": [
      "1.1 धर्मक्षेत्रे on the holy plain? कुरुक्षेत्रे in Kurukshetra? समवेताः assembled together? युयुत्सवः desirous to fight? मामकाः my people? पाण्डवाः the sons of Pandu? च and? एव also? किम् what? अकुर्वत did do? सञ्जय O Sanjaya.Commentary Dharmakshetra -- that place which protects Dharma is Dharmakshetra. Because it was in the land of the Kurus? it was called Kurukshetra.Sanjaya is one who has conered likes and dislikes and who is impartial.\n"
     ]
    }
   ],
   "source": [
    "print(df.iloc[0, -1])"
   ]
  },
  {
   "cell_type": "code",
   "execution_count": 39,
   "metadata": {},
   "outputs": [
    {
     "data": {
      "text/html": [
       "<div>\n",
       "<style scoped>\n",
       "    .dataframe tbody tr th:only-of-type {\n",
       "        vertical-align: middle;\n",
       "    }\n",
       "\n",
       "    .dataframe tbody tr th {\n",
       "        vertical-align: top;\n",
       "    }\n",
       "\n",
       "    .dataframe thead th {\n",
       "        text-align: right;\n",
       "    }\n",
       "</style>\n",
       "<table border=\"1\" class=\"dataframe\">\n",
       "  <thead>\n",
       "    <tr style=\"text-align: right;\">\n",
       "      <th></th>\n",
       "      <th>ID</th>\n",
       "      <th>Chapter</th>\n",
       "      <th>Verse</th>\n",
       "      <th>Shloka</th>\n",
       "      <th>Transliteration</th>\n",
       "      <th>HinMeaning</th>\n",
       "      <th>EngMeaning</th>\n",
       "      <th>WordMeaning</th>\n",
       "    </tr>\n",
       "  </thead>\n",
       "  <tbody>\n",
       "    <tr>\n",
       "      <th>698</th>\n",
       "      <td>BG18.76</td>\n",
       "      <td>18</td>\n",
       "      <td>76</td>\n",
       "      <td>राजन्संस्मृत्य संस्मृत्य संवादमिममद्भुतम् |\\nक...</td>\n",
       "      <td>rājansaṃsmṛtya saṃsmṛtya saṃvādamimamadbhutam ...</td>\n",
       "      <td>।।18.76।। हे राजन् ! भगवान् केशव और अर्जुन के ...</td>\n",
       "      <td>18.76 O King, remembering this wonderful and h...</td>\n",
       "      <td>18.76 राजन् O King? संस्मृत्य having remembere...</td>\n",
       "    </tr>\n",
       "    <tr>\n",
       "      <th>699</th>\n",
       "      <td>BG18.77</td>\n",
       "      <td>18</td>\n",
       "      <td>77</td>\n",
       "      <td>तच्च संस्मृत्य संस्मृत्य रूपमत्यद्भुतं हरेः |\\...</td>\n",
       "      <td>tacca saṃsmṛtya saṃsmṛtya rūpamatyadbhutaṃ har...</td>\n",
       "      <td>।।18.77।। हे राजन ! श्री हरि के अति अद्भुत रूप...</td>\n",
       "      <td>18.77 And, remembering again and again, also t...</td>\n",
       "      <td>18.77 तत् that? च and? संस्मृत्य having rememb...</td>\n",
       "    </tr>\n",
       "    <tr>\n",
       "      <th>700</th>\n",
       "      <td>BG18.78</td>\n",
       "      <td>18</td>\n",
       "      <td>78</td>\n",
       "      <td>यत्र योगेश्वरः कृष्णो यत्र पार्थो धनुर्धरः |\\n...</td>\n",
       "      <td>yatra yogeśvaraḥ kṛṣṇo yatra pārtho dhanurdhar...</td>\n",
       "      <td>।।18.78।। जहाँ योगेश्वर श्रीकृष्ण हैं और जहाँ ...</td>\n",
       "      <td>18.78 Wherever is Krishna, the Lord of Yoga; w...</td>\n",
       "      <td>18.78 यत्र wherever? योगेश्वरः the Lord of Yog...</td>\n",
       "    </tr>\n",
       "  </tbody>\n",
       "</table>\n",
       "</div>"
      ],
      "text/plain": [
       "          ID  Chapter  Verse  \\\n",
       "698  BG18.76       18     76   \n",
       "699  BG18.77       18     77   \n",
       "700  BG18.78       18     78   \n",
       "\n",
       "                                                Shloka  \\\n",
       "698  राजन्संस्मृत्य संस्मृत्य संवादमिममद्भुतम् |\\nक...   \n",
       "699  तच्च संस्मृत्य संस्मृत्य रूपमत्यद्भुतं हरेः |\\...   \n",
       "700  यत्र योगेश्वरः कृष्णो यत्र पार्थो धनुर्धरः |\\n...   \n",
       "\n",
       "                                       Transliteration  \\\n",
       "698  rājansaṃsmṛtya saṃsmṛtya saṃvādamimamadbhutam ...   \n",
       "699  tacca saṃsmṛtya saṃsmṛtya rūpamatyadbhutaṃ har...   \n",
       "700  yatra yogeśvaraḥ kṛṣṇo yatra pārtho dhanurdhar...   \n",
       "\n",
       "                                            HinMeaning  \\\n",
       "698  ।।18.76।। हे राजन् ! भगवान् केशव और अर्जुन के ...   \n",
       "699  ।।18.77।। हे राजन ! श्री हरि के अति अद्भुत रूप...   \n",
       "700  ।।18.78।। जहाँ योगेश्वर श्रीकृष्ण हैं और जहाँ ...   \n",
       "\n",
       "                                            EngMeaning  \\\n",
       "698  18.76 O King, remembering this wonderful and h...   \n",
       "699  18.77 And, remembering again and again, also t...   \n",
       "700  18.78 Wherever is Krishna, the Lord of Yoga; w...   \n",
       "\n",
       "                                           WordMeaning  \n",
       "698  18.76 राजन् O King? संस्मृत्य having remembere...  \n",
       "699  18.77 तत् that? च and? संस्मृत्य having rememb...  \n",
       "700  18.78 यत्र wherever? योगेश्वरः the Lord of Yog...  "
      ]
     },
     "execution_count": 39,
     "metadata": {},
     "output_type": "execute_result"
    }
   ],
   "source": [
    "df.tail(3)"
   ]
  },
  {
   "cell_type": "code",
   "execution_count": 52,
   "metadata": {},
   "outputs": [],
   "source": [
    "df['HinMeaning'] = df['HinMeaning'].str.replace(r'^।।\\d+\\.\\d+।।', '', regex=True).str.strip().str.replace(r'।+$', '|', regex=True)\n",
    "df['EngMeaning'] = df['EngMeaning'].str.replace(r'^\\d+\\.\\d+', '', regex=True)"
   ]
  },
  {
   "cell_type": "code",
   "execution_count": 53,
   "metadata": {},
   "outputs": [],
   "source": [
    "df['EngMeaning'] = df['EngMeaning'].str.replace(r'\\.\\s+', ' ', regex=True)  # Removes odd periods followed by space\n",
    "df['EngMeaning'] = df['EngMeaning'].str.replace(r'\\s+', ' ', regex=True).str.strip()  # Removes extra spaces and trims"
   ]
  },
  {
   "cell_type": "code",
   "execution_count": 54,
   "metadata": {},
   "outputs": [],
   "source": [
    "df['Shloka'] = df['Shloka'].str.replace(r'\\|\\d+-\\d+\\|\\|$', '', regex=True)"
   ]
  },
  {
   "cell_type": "code",
   "execution_count": 47,
   "metadata": {},
   "outputs": [
    {
     "data": {
      "text/html": [
       "<div>\n",
       "<style scoped>\n",
       "    .dataframe tbody tr th:only-of-type {\n",
       "        vertical-align: middle;\n",
       "    }\n",
       "\n",
       "    .dataframe tbody tr th {\n",
       "        vertical-align: top;\n",
       "    }\n",
       "\n",
       "    .dataframe thead th {\n",
       "        text-align: right;\n",
       "    }\n",
       "</style>\n",
       "<table border=\"1\" class=\"dataframe\">\n",
       "  <thead>\n",
       "    <tr style=\"text-align: right;\">\n",
       "      <th></th>\n",
       "      <th>ID</th>\n",
       "      <th>Chapter</th>\n",
       "      <th>Verse</th>\n",
       "      <th>Shloka</th>\n",
       "      <th>Transliteration</th>\n",
       "      <th>HinMeaning</th>\n",
       "      <th>EngMeaning</th>\n",
       "      <th>WordMeaning</th>\n",
       "    </tr>\n",
       "  </thead>\n",
       "  <tbody>\n",
       "    <tr>\n",
       "      <th>698</th>\n",
       "      <td>BG18.76</td>\n",
       "      <td>18</td>\n",
       "      <td>76</td>\n",
       "      <td>राजन्संस्मृत्य संस्मृत्य संवादमिममद्भुतम् |\\nक...</td>\n",
       "      <td>rājansaṃsmṛtya saṃsmṛtya saṃvādamimamadbhutam ...</td>\n",
       "      <td>हे राजन् ! भगवान् केशव और अर्जुन के इस अद्भुत ...</td>\n",
       "      <td>O King, remembering this wonderful and holy di...</td>\n",
       "      <td>18.76 राजन् O King? संस्मृत्य having remembere...</td>\n",
       "    </tr>\n",
       "    <tr>\n",
       "      <th>699</th>\n",
       "      <td>BG18.77</td>\n",
       "      <td>18</td>\n",
       "      <td>77</td>\n",
       "      <td>तच्च संस्मृत्य संस्मृत्य रूपमत्यद्भुतं हरेः |\\...</td>\n",
       "      <td>tacca saṃsmṛtya saṃsmṛtya rūpamatyadbhutaṃ har...</td>\n",
       "      <td>हे राजन ! श्री हरि के अति अद्भुत रूप को भी पुन...</td>\n",
       "      <td>And, remembering again and again, also that mo...</td>\n",
       "      <td>18.77 तत् that? च and? संस्मृत्य having rememb...</td>\n",
       "    </tr>\n",
       "    <tr>\n",
       "      <th>700</th>\n",
       "      <td>BG18.78</td>\n",
       "      <td>18</td>\n",
       "      <td>78</td>\n",
       "      <td>यत्र योगेश्वरः कृष्णो यत्र पार्थो धनुर्धरः |\\n...</td>\n",
       "      <td>yatra yogeśvaraḥ kṛṣṇo yatra pārtho dhanurdhar...</td>\n",
       "      <td>जहाँ योगेश्वर श्रीकृष्ण हैं और जहाँ धनुर्धारी ...</td>\n",
       "      <td>Wherever is Krishna, the Lord of Yoga; whereve...</td>\n",
       "      <td>18.78 यत्र wherever? योगेश्वरः the Lord of Yog...</td>\n",
       "    </tr>\n",
       "  </tbody>\n",
       "</table>\n",
       "</div>"
      ],
      "text/plain": [
       "          ID  Chapter  Verse  \\\n",
       "698  BG18.76       18     76   \n",
       "699  BG18.77       18     77   \n",
       "700  BG18.78       18     78   \n",
       "\n",
       "                                                Shloka  \\\n",
       "698  राजन्संस्मृत्य संस्मृत्य संवादमिममद्भुतम् |\\nक...   \n",
       "699  तच्च संस्मृत्य संस्मृत्य रूपमत्यद्भुतं हरेः |\\...   \n",
       "700  यत्र योगेश्वरः कृष्णो यत्र पार्थो धनुर्धरः |\\n...   \n",
       "\n",
       "                                       Transliteration  \\\n",
       "698  rājansaṃsmṛtya saṃsmṛtya saṃvādamimamadbhutam ...   \n",
       "699  tacca saṃsmṛtya saṃsmṛtya rūpamatyadbhutaṃ har...   \n",
       "700  yatra yogeśvaraḥ kṛṣṇo yatra pārtho dhanurdhar...   \n",
       "\n",
       "                                            HinMeaning  \\\n",
       "698  हे राजन् ! भगवान् केशव और अर्जुन के इस अद्भुत ...   \n",
       "699  हे राजन ! श्री हरि के अति अद्भुत रूप को भी पुन...   \n",
       "700  जहाँ योगेश्वर श्रीकृष्ण हैं और जहाँ धनुर्धारी ...   \n",
       "\n",
       "                                            EngMeaning  \\\n",
       "698  O King, remembering this wonderful and holy di...   \n",
       "699  And, remembering again and again, also that mo...   \n",
       "700  Wherever is Krishna, the Lord of Yoga; whereve...   \n",
       "\n",
       "                                           WordMeaning  \n",
       "698  18.76 राजन् O King? संस्मृत्य having remembere...  \n",
       "699  18.77 तत् that? च and? संस्मृत्य having rememb...  \n",
       "700  18.78 यत्र wherever? योगेश्वरः the Lord of Yog...  "
      ]
     },
     "execution_count": 47,
     "metadata": {},
     "output_type": "execute_result"
    }
   ],
   "source": [
    "df.tail(3)"
   ]
  },
  {
   "cell_type": "code",
   "execution_count": 48,
   "metadata": {},
   "outputs": [
    {
     "data": {
      "text/plain": [
       "(701, 8)"
      ]
     },
     "execution_count": 48,
     "metadata": {},
     "output_type": "execute_result"
    }
   ],
   "source": [
    "df.shape"
   ]
  },
  {
   "cell_type": "code",
   "execution_count": 55,
   "metadata": {},
   "outputs": [
    {
     "name": "stdout",
     "output_type": "stream",
     "text": [
      "निमित्तानि च पश्यामि विपरीतानि केशव |\n",
      "न च श्रेयोऽनुपश्यामि हत्वा स्वजनमाहवे |\n",
      "\n",
      "\n",
      "हे केशव ! मैं शकुनों को भी विपरीत ही देख रहा हूँ और युद्ध में (आहवे) अपने स्वजनों को मारकर कोई कल्याण भी नहीं देखता हूँ|\n",
      "\n",
      "\n",
      "And I see adverse omens, O Kesava I do not see any good in killing my kinsmen in battle.\n",
      "\n",
      "--------------------------------\n",
      "\n",
      "न काङ्क्षे विजयं कृष्ण न च राज्यं सुखानि च |\n",
      "किं नो राज्येन गोविन्द किं भोगैर्जीवितेन वा |\n",
      "\n",
      "\n",
      "हे कृष्ण ! मैं न विजय चाहता हूँ, न राज्य और न सुखों को ही चाहता हूँ। हे गोविन्द ! हमें राज्य से अथवा भोगों से और जीने से भी क्या प्रयोजन है?|\n",
      "\n",
      "\n",
      "I desire not victory, O Krishna, nor kingdom, nor pleasures Of what avail is dominion to us, O Krishna, or pleasures or even life?\n",
      "\n",
      "--------------------------------\n",
      "\n",
      "येषामर्थे काङ्क्षितं नो राज्यं भोगाः सुखानि च |\n",
      "त इमेऽवस्थिता युद्धे प्राणांस्त्यक्त्वा धनानि च |\n",
      "\n",
      "\n",
      "हमें जिनके लिये राज्य,  भोग और सुखादि की इच्छा है,  वे ही लोग धन और जीवन की आशा को त्यागकर युद्ध में खड़े हैं|\n",
      "\n",
      "\n",
      "Those for whose sake we desire kingdom, enjoyments and pleasures, stand here in battle, having renounced life and wealth.\n",
      "\n",
      "--------------------------------\n",
      "\n"
     ]
    }
   ],
   "source": [
    "for i in range(30, 33):\n",
    "    print(df.loc[i].Shloka)\n",
    "    print(\"\\n\")\n",
    "    print(df.loc[i].HinMeaning)\n",
    "    print(\"\\n\")\n",
    "    print(df.loc[i].EngMeaning)\n",
    "    print(\"\\n--------------------------------\\n\")"
   ]
  },
  {
   "cell_type": "code",
   "execution_count": 56,
   "metadata": {},
   "outputs": [],
   "source": [
    "with open(\"Data/input.txt\", \"w\") as f:\n",
    "    for index, item in df.iterrows():\n",
    "        f.write(f\"Shloka:\\n{item['Shloka']}\\n\\n\")\n",
    "        f.write(f\"Hindi Meaning:\\n{item['HinMeaning']}\\n\\n\")\n",
    "        f.write(f\"English Meaning:\\n{item['EngMeaning']}\\n\\n\\n\")"
   ]
  },
  {
   "cell_type": "code",
   "execution_count": 1,
   "metadata": {},
   "outputs": [],
   "source": [
    "with open('Data/input.txt') as f:\n",
    "    data = f.read()\n",
    "\n",
    "chars = list(sorted(set(data)))"
   ]
  },
  {
   "cell_type": "code",
   "execution_count": 2,
   "metadata": {},
   "outputs": [
    {
     "data": {
      "text/plain": [
       "137"
      ]
     },
     "execution_count": 2,
     "metadata": {},
     "output_type": "execute_result"
    }
   ],
   "source": [
    "len(chars)"
   ]
  },
  {
   "cell_type": "code",
   "execution_count": 3,
   "metadata": {},
   "outputs": [
    {
     "data": {
      "text/plain": [
       "297518"
      ]
     },
     "execution_count": 3,
     "metadata": {},
     "output_type": "execute_result"
    }
   ],
   "source": [
    "len(list(data))"
   ]
  },
  {
   "cell_type": "code",
   "execution_count": 4,
   "metadata": {},
   "outputs": [
    {
     "data": {
      "text/plain": [
       "['S', 'h', 'l', 'o', 'k']"
      ]
     },
     "execution_count": 4,
     "metadata": {},
     "output_type": "execute_result"
    }
   ],
   "source": [
    "list(data)[:5]"
   ]
  },
  {
   "cell_type": "code",
   "execution_count": 8,
   "metadata": {},
   "outputs": [
    {
     "name": "stdout",
     "output_type": "stream",
     "text": [
      "\n",
      " !\"'(),-.1289:;?ABCDEFGHIJKLMNOPRSTUVWYabcdefghijklmnopqrstuvwxyz| ïँंःअआइईउऊऋएऐओऔकखगघङचछजझञटठडढणतथदधनपफबभमयरलवशषसह़ऽािीुूृॄॆेैॊोौ्ॐ।৷‌’\n"
     ]
    }
   ],
   "source": [
    "print(\"\".join(list(sorted(set(data)))))"
   ]
  },
  {
   "cell_type": "code",
   "execution_count": null,
   "metadata": {},
   "outputs": [],
   "source": []
  }
 ],
 "metadata": {
  "kernelspec": {
   "display_name": "base",
   "language": "python",
   "name": "python3"
  },
  "language_info": {
   "codemirror_mode": {
    "name": "ipython",
    "version": 3
   },
   "file_extension": ".py",
   "mimetype": "text/x-python",
   "name": "python",
   "nbconvert_exporter": "python",
   "pygments_lexer": "ipython3",
   "version": "3.11.5"
  }
 },
 "nbformat": 4,
 "nbformat_minor": 2
}
